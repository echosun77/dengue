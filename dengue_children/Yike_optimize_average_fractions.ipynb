{
 "cells": [
  {
   "cell_type": "code",
   "execution_count": 1,
   "metadata": {},
   "outputs": [
    {
     "name": "stdout",
     "output_type": "stream",
     "text": [
      "Load interaction\n",
      "Load high-quality cells only\n",
      "Restrict to interaction genes\n",
      "Load interaction\n"
     ]
    },
    {
     "name": "stderr",
     "output_type": "stream",
     "text": [
      "/usr/lib/python3.8/site-packages/anndata/_core/anndata.py:1094: FutureWarning: is_categorical is deprecated and will be removed in a future version.  Use is_categorical_dtype instead\n",
      "  if not is_categorical(df_full[k]):\n"
     ]
    }
   ],
   "source": [
    "import numpy as np\n",
    "import pandas as pd\n",
    "\n",
    "import anndata\n",
    "import scanpy as sc\n",
    "\n",
    "import matplotlib.pyplot as plt\n",
    "import seaborn as sns\n",
    "from adata_utilis import average_fraction\n",
    "from interaction_functions import interaction_analysis_same\n",
    "\n",
    "if __name__ == '__main__':\n",
    "    \n",
    "    print('Load interaction')\n",
    "    fn_int = '/home/yike/phd/dengue/data/interaction_unpacked_mouse.tsv'\n",
    "    interactions = pd.read_csv(fn_int, sep='\\t')[['gene_name_a', 'gene_name_b']]\n",
    "    ga, gb = interactions['gene_name_a'], interactions['gene_name_b']\n",
    "    \n",
    "    if True:\n",
    "        print('Load high-quality cells only')\n",
    "        fn_h5ad = '/home/yike/phd/dengue/data/mergedata_20200930_high_quality.h5ad'\n",
    "        adata = anndata.read_h5ad(fn_h5ad)\n",
    "        adata.obs['dataset'] = adata.obs['platform'].replace({\n",
    "            '10X': 'child',\n",
    "            'plate': 'adult'   \n",
    "        })\n",
    "        adata.obs['sick'] = adata.obs['Condition'].replace({\n",
    "            'S_dengue': 'sick',\n",
    "            'dengue': 'sick',\n",
    "            'DWS': 'sick'\n",
    "        })\n",
    "        sc.pp.normalize_total(adata, target_sum=1e6) #normalize data to CPM (counts per million)\n",
    "        \n",
    "    print('Restrict to interaction genes')\n",
    "    genes = np.unique(interactions)\n",
    "    adatag = adata[:, genes]\n",
    "    \n",
    "    res = average_fraction(adatag, ['dataset', 'sick', 'cell_type'])"
   ]
  },
  {
   "cell_type": "code",
   "execution_count": 11,
   "metadata": {},
   "outputs": [],
   "source": [
    "# only healthy, interactions both expressed in adult and child\n",
    "only_healthy = interaction_analysis_same('child', 'adult', 'Healthy', 'Healthy', 'B_cells', res)\n",
    "cell_types = ['B_cells','NK_cells' , 'T_cells', 'Monocytes', 'Plasmablasts', 'pDCs', 'cDCs']\n",
    "for cell_type in cell_types:\n",
    "    only_healthy[cell_type].to_excel('/home/yike/phd/dengue/data/excels/interaction_analysis/' + cell_type + '_only_healthy.xls')"
   ]
  },
  {
   "cell_type": "code",
   "execution_count": 12,
   "metadata": {},
   "outputs": [],
   "source": [
    "# only sick, interactions both expressed in adult and child\n",
    "only_sick = interaction_analysis_same('child', 'adult', 'sick', 'sick', 'B_cells', res)\n",
    "cell_types = ['B_cells','NK_cells' , 'T_cells', 'Monocytes', 'Plasmablasts', 'pDCs', 'cDCs']\n",
    "for cell_type in cell_types:\n",
    "    only_sick[cell_type].to_excel('/home/yike/phd/dengue/data/excels/interaction_analysis/' + cell_type + '_only_sick.xls')"
   ]
  },
  {
   "cell_type": "code",
   "execution_count": null,
   "metadata": {},
   "outputs": [],
   "source": []
  }
 ],
 "metadata": {
  "kernelspec": {
   "display_name": "Python 3",
   "language": "python",
   "name": "python3"
  },
  "language_info": {
   "codemirror_mode": {
    "name": "ipython",
    "version": 3
   },
   "file_extension": ".py",
   "mimetype": "text/x-python",
   "name": "python",
   "nbconvert_exporter": "python",
   "pygments_lexer": "ipython3",
   "version": "3.8.5"
  }
 },
 "nbformat": 4,
 "nbformat_minor": 4
}
