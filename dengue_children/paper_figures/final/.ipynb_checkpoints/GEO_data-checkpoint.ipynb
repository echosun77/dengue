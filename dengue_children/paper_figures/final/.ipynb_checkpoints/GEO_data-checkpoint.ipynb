{
 "cells": [
  {
   "cell_type": "code",
   "execution_count": 3,
   "id": "expanded-tunnel",
   "metadata": {},
   "outputs": [
    {
     "data": {
      "text/plain": [
       "'\\nDate: 7/Dec/2022\\nAuthor: Yike Xie\\nContent: prepare cellranger v3 mtx files of each sample\\n'"
      ]
     },
     "execution_count": 3,
     "metadata": {},
     "output_type": "execute_result"
    }
   ],
   "source": [
    "'''\n",
    "Date: 7/Dec/2022\n",
    "Author: Yike Xie\n",
    "Content: prepare cellranger v3 mtx files of each sample\n",
    "'''"
   ]
  },
  {
   "cell_type": "code",
   "execution_count": 4,
   "id": "legislative-crisis",
   "metadata": {},
   "outputs": [],
   "source": [
    "import os\n",
    "\n",
    "import numpy as np\n",
    "import pandas as pd\n",
    "\n",
    "import anndata\n",
    "import scanpy as sc\n",
    "import sc_utils "
   ]
  },
  {
   "cell_type": "code",
   "execution_count": 28,
   "id": "united-effectiveness",
   "metadata": {},
   "outputs": [
    {
     "name": "stderr",
     "output_type": "stream",
     "text": [
      "/home/yike/.conda/envs/scanpy/lib/python3.8/site-packages/anndata/_core/anndata.py:1095: FutureWarning: The `inplace` parameter in pandas.Categorical.remove_unused_categories is deprecated and will be removed in a future version.\n",
      "  df_sub[k].cat.remove_unused_categories(inplace=True)\n"
     ]
    }
   ],
   "source": [
    "path = '/home/yike/phd/dengue/data/mergedata_luca_NKT_202206.h5ad'\n",
    "adata = sc.read_h5ad(path)\n",
    "adata_kid = adata[adata.obs['platform'] == '10X']\n",
    "\n",
    "# remove additional information\n",
    "obs = adata_kid.obs[['cell_type_new', 'cell_subtype_new', 'ID', ]]\n",
    "var = pd.DataFrame([], index=adata_kid.var_names)\n",
    "adata_kid.obs = obs\n",
    "adata_kid.var = var\n",
    "\n",
    "# save as loom, h5ad\n",
    "adata_kid.write('/home/yike/phd/dengue/data/GEO/dengue_kids.h5ad')\n",
    "adata_kid.write('/home/yike/phd/dengue/data/GEO/dengue_kids.loom')"
   ]
  },
  {
   "cell_type": "code",
   "execution_count": 32,
   "id": "postal-directive",
   "metadata": {},
   "outputs": [],
   "source": [
    "# prepare cellranger v3 mtx files of each sample\n",
    "\n",
    "output_dir = '/home/yike/phd/dengue/data/GEO/mtx/'\n",
    "for ID in adata_kid.obs['ID'].unique():\n",
    "    tmp = adata_kid[adata_kid.obs['ID'] == ID]\n",
    "    path = os.path.join(output_dir, ID)\n",
    "    if os.path.exists(path) is False:\n",
    "        os.mkdir(path)\n",
    "    sc_utils.write_mtx(tmp, path)"
   ]
  },
  {
   "cell_type": "code",
   "execution_count": 41,
   "id": "answering-industry",
   "metadata": {},
   "outputs": [],
   "source": [
    "for fd in os.listdir(output_dir):\n",
    "    path = os.path.join(output_dir, fd)\n",
    "    for fdn in os.listdir(path):\n",
    "        os.replace(os.path.join(path, fdn), os.path.join(output_dir, fd + '_' + fdn))"
   ]
  },
  {
   "cell_type": "code",
   "execution_count": 46,
   "id": "broadband-chicago",
   "metadata": {},
   "outputs": [],
   "source": [
    "data = pd.read_csv('/home/yike/phd/dengue/data/GEO/md5sums_fastq.txt', sep=',')\n",
    "IDs = adata_kid.obs['ID'].unique().tolist()\n",
    "dt = []\n",
    "for name in data['filename']:\n",
    "    if (name[:8] in IDs) == False:\n",
    "        dt.append(name[:5] + '_01' + name[5:])\n",
    "    else:\n",
    "        dt.append(name)\n",
    "        \n",
    "data['filename'] = dt\n",
    "data.to_csv('/home/yike/phd/dengue/data/GEO/sum.txt', sep=',', index=False)"
   ]
  },
  {
   "cell_type": "code",
   "execution_count": 93,
   "id": "minor-evans",
   "metadata": {},
   "outputs": [],
   "source": []
  },
  {
   "cell_type": "code",
   "execution_count": null,
   "id": "resident-ukraine",
   "metadata": {},
   "outputs": [],
   "source": []
  }
 ],
 "metadata": {
  "kernelspec": {
   "display_name": "Python 3 (ipykernel)",
   "language": "python",
   "name": "python3"
  },
  "language_info": {
   "codemirror_mode": {
    "name": "ipython",
    "version": 3
   },
   "file_extension": ".py",
   "mimetype": "text/x-python",
   "name": "python",
   "nbconvert_exporter": "python",
   "pygments_lexer": "ipython3",
   "version": "3.8.5"
  }
 },
 "nbformat": 4,
 "nbformat_minor": 5
}
