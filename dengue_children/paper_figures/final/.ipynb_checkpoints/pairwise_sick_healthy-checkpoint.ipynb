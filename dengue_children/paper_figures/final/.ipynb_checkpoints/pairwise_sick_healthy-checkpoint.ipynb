{
 "cells": [
  {
   "cell_type": "code",
   "execution_count": 1,
   "id": "destroyed-commonwealth",
   "metadata": {},
   "outputs": [],
   "source": [
    "import numpy as np\n",
    "import pandas as pd"
   ]
  },
  {
   "cell_type": "code",
   "execution_count": 2,
   "id": "loaded-street",
   "metadata": {},
   "outputs": [],
   "source": [
    "import anndata\n",
    "import scanpy as sc"
   ]
  },
  {
   "cell_type": "code",
   "execution_count": 3,
   "id": "advance-manor",
   "metadata": {},
   "outputs": [],
   "source": [
    "import sys\n",
    "sys.path.append('/home/yike/phd/dengue/dengue_children/paper_figures/final/modules') \n",
    "import YK_util, optimized_pair_comparison, functions_CCC_figure_fra_pair\n",
    "from YK_util import *\n",
    "from optimized_pair_comparison import *\n",
    "from functions_CCC_figure_fra_pair import *"
   ]
  },
  {
   "cell_type": "code",
   "execution_count": 4,
   "id": "abroad-wages",
   "metadata": {},
   "outputs": [
    {
     "name": "stderr",
     "output_type": "stream",
     "text": [
      "/home/yike/.conda/envs/scanpy/lib/python3.8/site-packages/anndata/_core/anndata.py:1095: FutureWarning: The `inplace` parameter in pandas.Categorical.remove_unused_categories is deprecated and will be removed in a future version.\n",
      "  df_sub[k].cat.remove_unused_categories(inplace=True)\n",
      "/home/yike/.conda/envs/scanpy/lib/python3.8/site-packages/anndata/_core/anndata.py:1095: FutureWarning: The `inplace` parameter in pandas.Categorical.remove_unused_categories is deprecated and will be removed in a future version.\n",
      "  df_sub[k].cat.remove_unused_categories(inplace=True)\n",
      "/home/yike/.conda/envs/scanpy/lib/python3.8/site-packages/anndata/_core/anndata.py:1095: FutureWarning: The `inplace` parameter in pandas.Categorical.remove_unused_categories is deprecated and will be removed in a future version.\n",
      "  df_sub[k].cat.remove_unused_categories(inplace=True)\n"
     ]
    }
   ],
   "source": [
    "# load data\n",
    "path = '/home/yike/phd/dengue/data/mergedata_luca_NKT_202206.h5ad'\n",
    "adata = sc.read_h5ad(path)\n",
    "adata_kid = subsetdata(adata)\n",
    "adata_kid = normalizedata(adata_kid, log1p=True) # log1p = 2\n",
    "adata_kid = removegenes(adata_kid)\n",
    "adata_kid = adata_kid[(adata_kid.obs.cell_subtype_new != 'doublets') & \n",
    "                        (adata_kid.obs.cell_subtype_new != 'unknown')].copy()\n",
    "\n",
    "sc.pp.filter_genes(adata_kid, min_cells=3)"
   ]
  },
  {
   "cell_type": "code",
   "execution_count": 5,
   "id": "blessed-mother",
   "metadata": {},
   "outputs": [
    {
     "name": "stderr",
     "output_type": "stream",
     "text": [
      "/home/yike/phd/dengue/dengue_children/paper_figures/final/modules/YK_util.py:172: FutureWarning: The `inplace` parameter in pandas.Categorical.reorder_categories is deprecated and will be removed in a future version. Reordering categories will always return a new Categorical object.\n",
      "  adata.obs['cell_type_new'].cat.reorder_categories(group_order_primary, inplace=True)\n",
      "/home/yike/phd/dengue/dengue_children/paper_figures/final/modules/YK_util.py:204: FutureWarning: The `inplace` parameter in pandas.Categorical.reorder_categories is deprecated and will be removed in a future version. Reordering categories will always return a new Categorical object.\n",
      "  adata.obs['cell_subtype_new'].cat.reorder_categories(group_order_secondary, inplace=True)\n"
     ]
    }
   ],
   "source": [
    "#rename and reorder some celltypes \n",
    "adata_kid = adata_kid.copy()\n",
    "reorg_data(adata_kid) # 'cell_type_new', 'cell_subtype_new'"
   ]
  },
  {
   "cell_type": "code",
   "execution_count": 6,
   "id": "usual-collectible",
   "metadata": {},
   "outputs": [
    {
     "data": {
      "text/plain": [
       "AnnData object with n_obs × n_vars = 97632 × 21495\n",
       "    obs: 'Age', 'Condition', 'DENV_minus', 'DENV_plus', 'DENV_reads', 'Gender', 'ID', 'batch', 'cell_quality', 'cell_subtype', 'cell_subtype_2', 'cell_subtype_zhiyuan', 'cell_type', 'cell_type_zhiyuan', 'cell_type_new_2', 'doublets', 'mt_frac', 'n_counts', 'n_genes', 'platform', 'viral_load_nano', 'viral_load_qpcr', 'Dengue_exposure', 'cell_subtype_luca', 'cell_subtype_new', 'cell_type_luca', 'cell_type_new'\n",
       "    var: 'feature_types_10X', 'feature_types_plate', 'n_cells'\n",
       "    uns: 'log1p'"
      ]
     },
     "execution_count": 6,
     "metadata": {},
     "output_type": "execute_result"
    }
   ],
   "source": [
    "adata_kid"
   ]
  },
  {
   "cell_type": "code",
   "execution_count": 8,
   "id": "sitting-grove",
   "metadata": {},
   "outputs": [
    {
     "name": "stderr",
     "output_type": "stream",
     "text": [
      "/home/yike/.conda/envs/scanpy/lib/python3.8/site-packages/anndata/_core/anndata.py:1095: FutureWarning: The `inplace` parameter in pandas.Categorical.remove_unused_categories is deprecated and will be removed in a future version.\n",
      "  df_sub[k].cat.remove_unused_categories(inplace=True)\n"
     ]
    }
   ],
   "source": [
    "sick = adata_kid[adata_kid.obs['Condition'] != 'Healthy']"
   ]
  },
  {
   "cell_type": "code",
   "execution_count": 9,
   "id": "informal-numbers",
   "metadata": {},
   "outputs": [],
   "source": [
    "H = adata_kid[adata_kid.obs['Condition'] == 'Healthy']"
   ]
  },
  {
   "cell_type": "code",
   "execution_count": 14,
   "id": "weird-adolescent",
   "metadata": {},
   "outputs": [],
   "source": [
    "cell_types = adata_kid.obs['cell_type_new'].unique().tolist()"
   ]
  },
  {
   "cell_type": "code",
   "execution_count": 17,
   "id": "current-nickel",
   "metadata": {},
   "outputs": [
    {
     "name": "stdout",
     "output_type": "stream",
     "text": [
      "B cells\n",
      "0.06773077976299735\n",
      "NK cells\n",
      "0.07951592231331839\n",
      "T cells\n",
      "0.07992592912214302\n",
      "Monocytes\n",
      "1.5029812077146418\n",
      "Plasmablasts\n",
      "0.40882792100675225\n",
      "plasmacytoid DCs\n",
      "0.0\n",
      "conventional DCs\n",
      "2.277059549933857\n",
      "megakaryocytes\n",
      "0.0\n"
     ]
    }
   ],
   "source": [
    "for cd in cell_types:\n",
    "    a = np.log2(sick[sick.obs['cell_type_new'] == cd][:, 'FCGR1A'].X.mean() + 0.1) - np.log2(H[H.obs['cell_type_new'] == cd][:, 'FCGR1A'].X.mean() + 0.1)\n",
    "    print(cd)\n",
    "    print(a)"
   ]
  },
  {
   "cell_type": "code",
   "execution_count": null,
   "id": "reflected-promise",
   "metadata": {},
   "outputs": [],
   "source": []
  },
  {
   "cell_type": "code",
   "execution_count": null,
   "id": "pediatric-hardwood",
   "metadata": {},
   "outputs": [],
   "source": []
  }
 ],
 "metadata": {
  "kernelspec": {
   "display_name": "Python 3",
   "language": "python",
   "name": "python3"
  },
  "language_info": {
   "codemirror_mode": {
    "name": "ipython",
    "version": 3
   },
   "file_extension": ".py",
   "mimetype": "text/x-python",
   "name": "python",
   "nbconvert_exporter": "python",
   "pygments_lexer": "ipython3",
   "version": "3.8.5"
  }
 },
 "nbformat": 4,
 "nbformat_minor": 5
}
