{
 "cells": [
  {
   "cell_type": "code",
   "execution_count": 1,
   "id": "second-hypothetical",
   "metadata": {},
   "outputs": [
    {
     "data": {
      "text/plain": [
       "'\\nDate: 7/Dec/2022\\nAuthor: Yike Xie\\nContent: prepare cellranger v3 mtx files of each sample\\n'"
      ]
     },
     "execution_count": 1,
     "metadata": {},
     "output_type": "execute_result"
    }
   ],
   "source": [
    "'''\n",
    "Date: 7/Dec/2022\n",
    "Author: Yike Xie\n",
    "Content: prepare cellranger v3 mtx files of each sample\n",
    "'''"
   ]
  },
  {
   "cell_type": "code",
   "execution_count": 2,
   "id": "human-carolina",
   "metadata": {},
   "outputs": [],
   "source": [
    "import os\n",
    "\n",
    "import numpy as np\n",
    "import pandas as pd\n",
    "\n",
    "import anndata\n",
    "import scanpy as sc\n",
    "import sc_utils "
   ]
  },
  {
   "cell_type": "code",
   "execution_count": 8,
   "id": "listed-canon",
   "metadata": {},
   "outputs": [
    {
     "name": "stderr",
     "output_type": "stream",
     "text": [
      "/home/yike/.conda/envs/scanpy/lib/python3.8/site-packages/anndata/_core/anndata.py:1095: FutureWarning: The `inplace` parameter in pandas.Categorical.remove_unused_categories is deprecated and will be removed in a future version.\n",
      "  df_sub[k].cat.remove_unused_categories(inplace=True)\n"
     ]
    }
   ],
   "source": [
    "path = '/home/yike/phd/dengue/data/mergedata_luca_NKT_202206.h5ad'\n",
    "adata = sc.read_h5ad(path)\n",
    "adata_kid = adata[adata.obs['platform'] == '10X']"
   ]
  },
  {
   "cell_type": "code",
   "execution_count": 5,
   "id": "distant-mouth",
   "metadata": {},
   "outputs": [
    {
     "data": {
      "text/plain": [
       "Index(['Age', 'Condition', 'DENV_minus', 'DENV_plus', 'DENV_reads', 'Gender',\n",
       "       'ID', 'batch', 'cell_quality', 'cell_subtype', 'cell_subtype_2',\n",
       "       'cell_subtype_zhiyuan', 'cell_type', 'cell_type_zhiyuan',\n",
       "       'cell_type_new_2', 'doublets', 'mt_frac', 'n_counts', 'n_genes',\n",
       "       'platform', 'viral_load_nano', 'viral_load_qpcr', 'Dengue_exposure',\n",
       "       'cell_subtype_luca', 'cell_subtype_new', 'cell_type_luca',\n",
       "       'cell_type_new'],\n",
       "      dtype='object')"
      ]
     },
     "execution_count": 5,
     "metadata": {},
     "output_type": "execute_result"
    }
   ],
   "source": [
    "adata_kid.obs.columns"
   ]
  },
  {
   "cell_type": "code",
   "execution_count": 9,
   "id": "grave-disabled",
   "metadata": {},
   "outputs": [
    {
     "name": "stdout",
     "output_type": "stream",
     "text": [
      "Writing h5ad\n",
      "Writing loom file\n"
     ]
    }
   ],
   "source": [
    "# remove additional information\n",
    "obs = adata_kid.obs[['cell_type_new', 'cell_subtype_new', 'ID', 'Age', 'Condition', 'Gender', 'DENV_reads', \n",
    "                     'mt_frac', 'n_counts', 'n_genes', 'cell_quality', 'doublets', 'batch']].copy()\n",
    "obs.rename(columns={'cell_type_new': 'cell_type', 'cell_subtype_new': 'cell_subtype', 'Age': 'age', 'Condition': 'condition', 'Gender': 'sex'}, inplace=True)\n",
    "var = pd.DataFrame([], index=adata_kid.var_names)\n",
    "adata_kid.obs = obs\n",
    "adata_kid.var = var\n",
    "\n",
    "# save as loom, h5ad\n",
    "print('Writing h5ad')\n",
    "adata_kid.write('/home/yike/phd/dengue/data/GEO/dengue_kids.h5ad')\n",
    "print('Writing loom file')\n",
    "adata_kid.write('/home/yike/phd/dengue/data/GEO/dengue_kids.loom')"
   ]
  },
  {
   "cell_type": "code",
   "execution_count": 32,
   "id": "appointed-panama",
   "metadata": {},
   "outputs": [],
   "source": [
    "# prepare cellranger v3 mtx files of each sample\n",
    "\n",
    "output_dir = '/home/yike/phd/dengue/data/GEO/mtx/'\n",
    "for ID in adata_kid.obs['ID'].unique():\n",
    "    tmp = adata_kid[adata_kid.obs['ID'] == ID]\n",
    "    path = os.path.join(output_dir, ID)\n",
    "    if os.path.exists(path) is False:\n",
    "        os.mkdir(path)\n",
    "    sc_utils.write_mtx(tmp, path)"
   ]
  },
  {
   "cell_type": "code",
   "execution_count": 41,
   "id": "direct-colorado",
   "metadata": {},
   "outputs": [],
   "source": [
    "for fd in os.listdir(output_dir):\n",
    "    path = os.path.join(output_dir, fd)\n",
    "    for fdn in os.listdir(path):\n",
    "        os.replace(os.path.join(path, fdn), os.path.join(output_dir, fd + '_' + fdn))"
   ]
  },
  {
   "cell_type": "code",
   "execution_count": 46,
   "id": "recovered-malawi",
   "metadata": {},
   "outputs": [],
   "source": [
    "data = pd.read_csv('/home/yike/phd/dengue/data/GEO/md5sums_fastq.txt', sep=',')\n",
    "IDs = adata_kid.obs['ID'].unique().tolist()\n",
    "dt = []\n",
    "for name in data['filename']:\n",
    "    if (name[:8] in IDs) == False:\n",
    "        dt.append(name[:5] + '_01' + name[5:])\n",
    "    else:\n",
    "        dt.append(name)\n",
    "        \n",
    "data['filename'] = dt\n",
    "data.to_csv('/home/yike/phd/dengue/data/GEO/sum.txt', sep=',', index=False)"
   ]
  },
  {
   "cell_type": "code",
   "execution_count": 93,
   "id": "senior-crossing",
   "metadata": {},
   "outputs": [],
   "source": []
  },
  {
   "cell_type": "code",
   "execution_count": null,
   "id": "coated-brand",
   "metadata": {},
   "outputs": [],
   "source": []
  }
 ],
 "metadata": {
  "kernelspec": {
   "display_name": "Python 3 (ipykernel)",
   "language": "python",
   "name": "python3"
  },
  "language_info": {
   "codemirror_mode": {
    "name": "ipython",
    "version": 3
   },
   "file_extension": ".py",
   "mimetype": "text/x-python",
   "name": "python",
   "nbconvert_exporter": "python",
   "pygments_lexer": "ipython3",
   "version": "3.8.5"
  }
 },
 "nbformat": 4,
 "nbformat_minor": 5
}
