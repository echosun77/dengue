{
 "cells": [
  {
   "cell_type": "code",
   "execution_count": null,
   "id": "insured-alexandria",
   "metadata": {},
   "outputs": [],
   "source": [
    "'''\n",
    "Aim: to get the interactions between signiicant cytokines from Luca's experiment and their receptors\n",
    "Author: Yike Xie\n",
    "Date: 23 Aug 2022\n",
    "'''"
   ]
  },
  {
   "cell_type": "code",
   "execution_count": 1,
   "id": "preliminary-mathematics",
   "metadata": {},
   "outputs": [],
   "source": [
    "import numpy as np\n",
    "import pandas as pd"
   ]
  },
  {
   "cell_type": "code",
   "execution_count": 16,
   "id": "interim-rendering",
   "metadata": {},
   "outputs": [],
   "source": [
    "# load interactions associated cytokine and cytokine receptors\n",
    "cyto_inters = pd.read_csv('/home/yike/phd/dengue/data/interaction_source_file/cyto_interactions.tsv', \n",
    "                          sep='\\t')[[\n",
    "'genesymbol_intercell_source',\n",
    "'category_intercell_source',\n",
    "'secreted_intercell_source',\n",
    "'plasma_membrane_transmembrane_intercell_source',\n",
    "'genesymbol_intercell_target',\n",
    "'category_intercell_target',\n",
    "'secreted_intercell_target',\n",
    "'plasma_membrane_transmembrane_intercell_target',\n",
    "]]"
   ]
  },
  {
   "cell_type": "code",
   "execution_count": 41,
   "id": "accepting-priest",
   "metadata": {},
   "outputs": [],
   "source": [
    "# load all cytokine receptors\n",
    "cyto_df = pd.read_csv('/home/yike/phd/dengue/data/interaction_source_file/cytokine_list.csv', sep=',')\n",
    "cyto_df = cyto_df[cyto_df.columns[1::2]]\n",
    "cyto_reps = cyto_df.astype('str').values\n",
    "reps_ls = np.unique(cyto_reps).tolist()\n",
    "reps_ls.remove('nan')\n",
    "\n",
    "r_ls = []\n",
    "for rep in reps_ls:\n",
    "    if '/' in rep:\n",
    "        r_ls += rep.split('/')\n",
    "        \n",
    "    else:\n",
    "        r_ls.append(rep)"
   ]
  },
  {
   "cell_type": "code",
   "execution_count": 46,
   "id": "waiting-island",
   "metadata": {},
   "outputs": [],
   "source": [
    "# load differential expressed cytokines according to Luca's experiment\n",
    "exp_info = pd.read_excel('/home/yike/phd/dengue/data/Luca_cyto_exp.xlsx',\n",
    "                        sheet_name='Sheet2', skiprows=[0,1], index_col=0)\n",
    "sig_cytos = exp_info['Gene name'].tolist()"
   ]
  },
  {
   "cell_type": "code",
   "execution_count": 47,
   "id": "secondary-cradle",
   "metadata": {},
   "outputs": [],
   "source": [
    "# filter sig_cytokine-cytokine receptor interactions\n",
    "sig_cyto_inters = cyto_inters[(cyto_inters['genesymbol_intercell_source'].isin(sig_cytos) & \n",
    "                               cyto_inters['genesymbol_intercell_target'].isin(r_ls)) |\n",
    "                              (cyto_inters['genesymbol_intercell_source'].isin(r_ls) &\n",
    "                               cyto_inters['genesymbol_intercell_target'].isin(sig_cytos))]"
   ]
  },
  {
   "cell_type": "code",
   "execution_count": 53,
   "id": "previous-formation",
   "metadata": {},
   "outputs": [],
   "source": [
    "sig_cyto_inters.sort_values(['genesymbol_intercell_source', 'genesymbol_intercell_target']).drop_duplicates(['genesymbol_intercell_source', 'genesymbol_intercell_target']).to_csv(\n",
    "'/home/yike/phd/dengue/data/sig_cytokine_interactions.tsv', sep='\\t', index=False)"
   ]
  },
  {
   "cell_type": "code",
   "execution_count": null,
   "id": "upset-shame",
   "metadata": {},
   "outputs": [],
   "source": []
  }
 ],
 "metadata": {
  "kernelspec": {
   "display_name": "Python 3",
   "language": "python",
   "name": "python3"
  },
  "language_info": {
   "codemirror_mode": {
    "name": "ipython",
    "version": 3
   },
   "file_extension": ".py",
   "mimetype": "text/x-python",
   "name": "python",
   "nbconvert_exporter": "python",
   "pygments_lexer": "ipython3",
   "version": "3.8.5"
  }
 },
 "nbformat": 4,
 "nbformat_minor": 5
}
