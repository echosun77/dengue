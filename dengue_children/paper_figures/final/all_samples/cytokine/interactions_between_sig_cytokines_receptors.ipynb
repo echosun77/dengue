{
 "cells": [
  {
   "cell_type": "code",
   "execution_count": 1,
   "id": "moved-testing",
   "metadata": {},
   "outputs": [
    {
     "data": {
      "text/plain": [
       "\"\\nAim: to get the interactions between signiicant cytokines from Luca's experiment and their receptors\\nAuthor: Yike Xie\\nDate: 23 Aug 2022\\n\""
      ]
     },
     "execution_count": 1,
     "metadata": {},
     "output_type": "execute_result"
    }
   ],
   "source": [
    "'''\n",
    "Aim: to get the interactions between signiicant cytokines from Luca's experiment and their receptors\n",
    "Author: Yike Xie\n",
    "Date: 23 Aug 2022\n",
    "'''"
   ]
  },
  {
   "cell_type": "code",
   "execution_count": 2,
   "id": "honest-coaching",
   "metadata": {},
   "outputs": [],
   "source": [
    "import numpy as np\n",
    "import pandas as pd"
   ]
  },
  {
   "cell_type": "code",
   "execution_count": 3,
   "id": "stylish-employment",
   "metadata": {},
   "outputs": [
    {
     "name": "stderr",
     "output_type": "stream",
     "text": [
      "<ipython-input-3-bd3d2eaf06aa>:2: DtypeWarning: Columns (18,33) have mixed types. Specify dtype option on import or set low_memory=False.\n",
      "  inters = pd.read_csv('/home/yike/phd/dengue/data/interaction_source_file/omnipath_cell_cell_communication.csv',\n"
     ]
    }
   ],
   "source": [
    "# load interactions associated cytokine and cytokine receptors\n",
    "inters = pd.read_csv('/home/yike/phd/dengue/data/interaction_source_file/omnipath_cell_cell_communication.csv', \n",
    "                          sep=',')[[\n",
    "'genesymbol_intercell_source',\n",
    "'category_intercell_source',\n",
    "'secreted_intercell_source',\n",
    "'plasma_membrane_transmembrane_intercell_source',\n",
    "'genesymbol_intercell_target',\n",
    "'category_intercell_target',\n",
    "'secreted_intercell_target',\n",
    "'plasma_membrane_transmembrane_intercell_target',\n",
    "]]"
   ]
  },
  {
   "cell_type": "code",
   "execution_count": 4,
   "id": "generous-sixth",
   "metadata": {},
   "outputs": [],
   "source": [
    "# load differential expressed cytokines according to Luca's experiment\n",
    "exp_info = pd.read_excel('/home/yike/phd/dengue/data/Luca_cyto_exp.xlsx',\n",
    "                        sheet_name='sig_cytos', skiprows=[0,1], index_col=0)\n",
    "sig_cytos = exp_info['Gene name'].tolist()"
   ]
  },
  {
   "cell_type": "code",
   "execution_count": 18,
   "id": "liable-hacker",
   "metadata": {},
   "outputs": [],
   "source": [
    "# filter sig_cytokine-cytokine receptor interactions\n",
    "sig_cyto_inters = inters[inters['genesymbol_intercell_source'].isin(sig_cytos)|\n",
    "                              inters['genesymbol_intercell_target'].isin(sig_cytos)]\n",
    "\n",
    "sig_cyto_inters = sig_cyto_inters[~ (sig_cyto_inters['genesymbol_intercell_source'].str.startswith('COMPLEX') | \n",
    "                                     sig_cyto_inters['genesymbol_intercell_target'].str.startswith('COMPLEX'))]\n",
    "\n",
    "sig_cyto_inters.sort_values(['genesymbol_intercell_source', 'genesymbol_intercell_target']).drop_duplicates(['genesymbol_intercell_source', 'genesymbol_intercell_target']).to_csv(\n",
    "'/home/yike/phd/dengue/data/sig_cytokine_interactions.tsv', sep='\\t', index=False)"
   ]
  },
  {
   "cell_type": "code",
   "execution_count": 36,
   "id": "southeast-easter",
   "metadata": {},
   "outputs": [
    {
     "data": {
      "text/plain": [
       "['RETN',\n",
       " 'CCL11',\n",
       " 'SERPINE1',\n",
       " 'IL18',\n",
       " 'IL27',\n",
       " 'CXCL10',\n",
       " 'CCL2',\n",
       " 'CSF1',\n",
       " 'PDGFA',\n",
       " 'PDGFB',\n",
       " 'TNF',\n",
       " 'CCL21',\n",
       " 'CCL26',\n",
       " 'CXCL12',\n",
       " 'MIF',\n",
       " 'ICAM1',\n",
       " 'FASLG',\n",
       " 'FAS',\n",
       " 'CXCL13',\n",
       " 'CCL24',\n",
       " 'IL10',\n",
       " 'HGF',\n",
       " 'IL23A',\n",
       " 'TPO',\n",
       " 'CXCL5',\n",
       " 'IFNL2',\n",
       " 'IFNG',\n",
       " 'IFNA2',\n",
       " 'CX3CL1',\n",
       " 'CSF3']"
      ]
     },
     "execution_count": 36,
     "metadata": {},
     "output_type": "execute_result"
    }
   ],
   "source": [
    "sig_cytos"
   ]
  },
  {
   "cell_type": "code",
   "execution_count": null,
   "id": "excessive-tower",
   "metadata": {},
   "outputs": [],
   "source": []
  },
  {
   "cell_type": "code",
   "execution_count": null,
   "id": "acoustic-illinois",
   "metadata": {},
   "outputs": [],
   "source": []
  },
  {
   "cell_type": "code",
   "execution_count": null,
   "id": "formal-mobile",
   "metadata": {},
   "outputs": [],
   "source": []
  },
  {
   "cell_type": "code",
   "execution_count": null,
   "id": "apparent-correction",
   "metadata": {},
   "outputs": [],
   "source": []
  },
  {
   "cell_type": "code",
   "execution_count": null,
   "id": "invisible-ranch",
   "metadata": {},
   "outputs": [],
   "source": []
  },
  {
   "cell_type": "code",
   "execution_count": null,
   "id": "scientific-northwest",
   "metadata": {},
   "outputs": [],
   "source": []
  }
 ],
 "metadata": {
  "kernelspec": {
   "display_name": "Python 3 (ipykernel)",
   "language": "python",
   "name": "python3"
  },
  "language_info": {
   "codemirror_mode": {
    "name": "ipython",
    "version": 3
   },
   "file_extension": ".py",
   "mimetype": "text/x-python",
   "name": "python",
   "nbconvert_exporter": "python",
   "pygments_lexer": "ipython3",
   "version": "3.8.5"
  }
 },
 "nbformat": 4,
 "nbformat_minor": 5
}
