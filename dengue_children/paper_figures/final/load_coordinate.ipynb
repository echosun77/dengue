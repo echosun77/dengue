{
 "cells": [
  {
   "cell_type": "code",
   "execution_count": 2,
   "metadata": {},
   "outputs": [],
   "source": [
    "import os\n",
    "\n",
    "import numpy as np\n",
    "import pandas as pd\n",
    "\n",
    "import anndata\n",
    "import scanpy as sc\n",
    "\n",
    "import matplotlib.pyplot as plt\n",
    "import matplotlib.lines as mlines\n",
    "import matplotlib.patches as mpatches\n",
    "from matplotlib.collections import PatchCollection\n",
    "from matplotlib import gridspec\n",
    "import matplotlib as mpl\n",
    "import seaborn as sns\n",
    "\n",
    "from collections import defaultdict\n",
    "import random\n",
    "import itertools\n",
    "from numpy import *    "
   ]
  },
  {
   "cell_type": "code",
   "execution_count": null,
   "metadata": {},
   "outputs": [],
   "source": [
    "def cluster (adata):\n",
    "    sc.pp.highly_variable_genes(adata, flavor='cell_ranger', n_top_genes=2000)\n",
    "    sc.pp.pca(adata, n_comps=40, use_highly_variable=True, svd_solver='arpack')\n",
    "    sc.pp.neighbors(adata, n_pcs = 15)\n",
    "    sc.tl.umap(adata)\n",
    "    sc.tl.leiden(adata, resolution=1, key_added = 'leiden_r1')\n",
    "    sc.tl.leiden(adata, resolution=0.5, key_added = 'leiden_r0.5')\n",
    "    sc.tl.rank_genes_groups(adata, groupby='leiden_r1', key_added='rank_genes_r1')\n",
    "    sc.tl.rank_genes_groups(adata, groupby='leiden_r0.5', key_added='rank_genes_r0.5')\n",
    "    \n",
    "def removegenes(adata):\n",
    "    \"\"\"remove human HLA genes from the dataset \n",
    "    Parameters:\n",
    "    ----------\n",
    "    adata: scanpy.adata\n",
    "        scanpy adata object\n",
    "\n",
    "    Returns:\n",
    "    -------\n",
    "    temp: scanpy.adata\n",
    "        scanpy adata object\n",
    "    \"\"\"\n",
    "\n",
    "    IGKV = [x for x in adata.var_names if x.startswith('IGKV')]\n",
    "    IGHV = [x for x in adata.var_names if x.startswith('IGHV')]\n",
    "    IGLV = [x for x in adata.var_names if x.startswith('IGLV')]\n",
    "    IGLC = [x for x in adata.var_names if x.startswith('IGLC')]\n",
    "    IGLL = [x for x in adata.var_names if x.startswith('IGLL')]\n",
    "    IGKC = [x for x in adata.var_names if x.startswith('IGKC')]\n",
    "    IGHC = [x for x in adata.var_names if x.startswith('IGHC')]\n",
    "    TRAV = [x for x in adata.var_names if x.startswith('TRAV')]\n",
    "    TRBV = [x for x in adata.var_names if x.startswith('TRBV')]\n",
    "    \n",
    "    #try removing IGHG genes and MZB1 and JCHAIN\n",
    "#     IGHG = [x for x in adata.var_names if x.startswith('IGHG')]\n",
    "    exclude = IGKV + IGHV + IGLV + IGLC + IGLL + IGKC + IGHC + TRAV + TRBV \n",
    "    gene = [x for x in adata.var_names if x not in exclude]\n",
    "    temp = adata[:,gene].copy()\n",
    "    return(temp)"
   ]
  },
  {
   "cell_type": "code",
   "execution_count": 4,
   "metadata": {},
   "outputs": [],
   "source": [
    "# load data\n",
    "path = '.././mergedata_20211001.h5ad'\n",
    "adata = sc.read_h5ad(path)\n",
    "\n",
    "# get children data\n",
    "adata_kid = adata[(adata.obs.cell_quality == quality) & \n",
    "                 (adata.obs.platform == platform) & \n",
    "                 (adata.obs.doublets == doublets)]\n",
    "\n",
    "#normalize data\n",
    "sc.pp.normalize_total(adata_kid, target_sum=1e6)\n",
    "sc.pp.log1p(adata_kid, base=2)\n",
    "\n",
    "# remove human HLA genes from the dataset\n",
    "adata_kid = removegenes(adata_kid)\n",
    "adata_kid = adata_kid[(adata_kid.obs.cell_subtype_new != 'doublets') & \n",
    "                        (adata_kid.obs.cell_subtype_new != 'unknown')].copy()\n",
    "\n",
    "# filter genes before clustering\n",
    "sc.pp.filter_genes(adata_kid, min_cells=3)"
   ]
  },
  {
   "cell_type": "code",
   "execution_count": 5,
   "metadata": {},
   "outputs": [
    {
     "name": "stderr",
     "output_type": "stream",
     "text": [
      "/usr/lib/python3.9/site-packages/pandas/core/arrays/categorical.py:2487: FutureWarning: The `inplace` parameter in pandas.Categorical.remove_unused_categories is deprecated and will be removed in a future version.\n",
      "  res = method(*args, **kwargs)\n",
      "WARNING: Default of the method has been changed to 't-test' from 't-test_overestim_var'\n",
      "WARNING: Default of the method has been changed to 't-test' from 't-test_overestim_var'\n"
     ]
    }
   ],
   "source": [
    "#clustering\n",
    "cluster (adata_kid)"
   ]
  },
  {
   "cell_type": "code",
   "execution_count": 6,
   "metadata": {},
   "outputs": [],
   "source": [
    "# #rename and reorder some celltypes \n",
    "adata_kid = adata_kid.copy()\n",
    "reorg_celltype(adata_kid) # 'cell_type_new', 'cell_subtype_new'"
   ]
  },
  {
   "cell_type": "code",
   "execution_count": 7,
   "metadata": {},
   "outputs": [],
   "source": [
    "X_umap = np.loadtxt('.././X_umap.txt')"
   ]
  },
  {
   "cell_type": "code",
   "execution_count": null,
   "metadata": {},
   "outputs": [],
   "source": [
    "adata_kid.obsm['X_umap'] = X_umap"
   ]
  },
  {
   "cell_type": "code",
   "execution_count": null,
   "metadata": {},
   "outputs": [],
   "source": [
    "# then do UMAP"
   ]
  }
 ],
 "metadata": {
  "kernelspec": {
   "display_name": "Python 3",
   "language": "python",
   "name": "python3"
  },
  "language_info": {
   "codemirror_mode": {
    "name": "ipython",
    "version": 3
   },
   "file_extension": ".py",
   "mimetype": "text/x-python",
   "name": "python",
   "nbconvert_exporter": "python",
   "pygments_lexer": "ipython3",
   "version": "3.8.5"
  }
 },
 "nbformat": 4,
 "nbformat_minor": 4
}
