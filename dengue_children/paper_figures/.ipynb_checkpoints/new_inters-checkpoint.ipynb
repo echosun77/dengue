{
 "cells": [
  {
   "cell_type": "code",
   "execution_count": 1,
   "metadata": {},
   "outputs": [],
   "source": [
    "import numpy as np\n",
    "import pandas as pd"
   ]
  },
  {
   "cell_type": "code",
   "execution_count": 11,
   "metadata": {},
   "outputs": [],
   "source": [
    "human_gene_name = pd.read_excel('/home/yike/phd/literature/Human_gene_name.xlsx', engine='openpyxl')\n",
    "mouse_gene_name = pd.read_excel('/home/yike/phd/literature/Mouse_gene_name.xlsx', engine='openpyxl')"
   ]
  },
  {
   "cell_type": "code",
   "execution_count": 8,
   "metadata": {},
   "outputs": [
    {
     "name": "stderr",
     "output_type": "stream",
     "text": [
      "/usr/lib/python3.9/site-packages/IPython/core/interactiveshell.py:3165: DtypeWarning: Columns (19,34) have mixed types.Specify dtype option on import or set low_memory=False.\n",
      "  has_raised = await self.run_ast_nodes(code_ast.body, cell_name,\n"
     ]
    }
   ],
   "source": [
    "inters = pd.read_csv('/home/yike/phd/dengue/data/interaction_source_file/omnipath_cell_cell_communication.csv')"
   ]
  },
  {
   "cell_type": "code",
   "execution_count": 13,
   "metadata": {},
   "outputs": [],
   "source": [
    "gene_name_a = []\n",
    "gene_name_b = []\n",
    "\n",
    "for i in inters['source'].tolist():\n",
    "    if i in human_gene_name['Entry_name'].tolist():\n",
    "        gene = human_gene_name[human_gene_name['Entry_name'] == i]['Gene_names_primary'].tolist()[0]\n",
    "        gene_name_a.append(gene)\n",
    "    else:\n",
    "        gene_name_a.append('-')\n",
    "\n",
    "for i in inters['target'].tolist():\n",
    "    if i in human_gene_name['Entry_name'].tolist():\n",
    "        gene = human_gene_name[human_gene_name['Entry_name'] == i]['Gene_names_primary'].tolist()[0]\n",
    "        gene_name_b.append(gene)\n",
    "    else:\n",
    "        gene_name_b.append('-')"
   ]
  },
  {
   "cell_type": "code",
   "execution_count": null,
   "metadata": {},
   "outputs": [],
   "source": [
    "gene_name_mouse_a = []\n",
    "gene_name_mouse_b = []\n",
    "\n",
    "for i in inters['source'].tolist():\n",
    "    if i in mouse_gene_name['Entry_name'].tolist():\n",
    "        gene = mouse_gene_name[mouse_gene_name['Entry_name'] == i]['Gene_names_primary'].tolist()[0]\n",
    "        gene_name_mouse_a.append(gene)\n",
    "    else:\n",
    "        gene_name_mouse_a.append('-')\n",
    "\n",
    "for i in inters['target'].tolist():\n",
    "    if i in mouse_gene_name['Entry_name'].tolist():\n",
    "        gene = mouse_gene_name[mouse_gene_name['Entry_name'] == i]['Gene_names_primary'].tolist()[0]\n",
    "        gene_name_mouse_b.append(gene)\n",
    "    else:\n",
    "        gene_name_mouse_b.append('-')\n"
   ]
  },
  {
   "cell_type": "code",
   "execution_count": null,
   "metadata": {},
   "outputs": [],
   "source": [
    "inters['gene_name_a'] = gene_name_a\n",
    "inters['gene_name_b'] = gene_name_b\n",
    "inters['gene_name_mouse_a'] = gene_name_mouse_a\n",
    "inters['gene_name_mouse_b'] = gene_name_mouse_b"
   ]
  },
  {
   "cell_type": "code",
   "execution_count": null,
   "metadata": {},
   "outputs": [],
   "source": []
  },
  {
   "cell_type": "code",
   "execution_count": null,
   "metadata": {},
   "outputs": [],
   "source": []
  },
  {
   "cell_type": "code",
   "execution_count": null,
   "metadata": {},
   "outputs": [],
   "source": []
  },
  {
   "cell_type": "code",
   "execution_count": null,
   "metadata": {},
   "outputs": [],
   "source": []
  },
  {
   "cell_type": "code",
   "execution_count": null,
   "metadata": {},
   "outputs": [],
   "source": []
  },
  {
   "cell_type": "code",
   "execution_count": null,
   "metadata": {},
   "outputs": [],
   "source": []
  },
  {
   "cell_type": "code",
   "execution_count": null,
   "metadata": {},
   "outputs": [],
   "source": []
  },
  {
   "cell_type": "code",
   "execution_count": null,
   "metadata": {},
   "outputs": [],
   "source": []
  },
  {
   "cell_type": "code",
   "execution_count": null,
   "metadata": {},
   "outputs": [],
   "source": []
  },
  {
   "cell_type": "code",
   "execution_count": null,
   "metadata": {},
   "outputs": [],
   "source": []
  },
  {
   "cell_type": "code",
   "execution_count": null,
   "metadata": {},
   "outputs": [],
   "source": []
  }
 ],
 "metadata": {
  "kernelspec": {
   "display_name": "Python 3",
   "language": "python",
   "name": "python3"
  },
  "language_info": {
   "codemirror_mode": {
    "name": "ipython",
    "version": 3
   },
   "file_extension": ".py",
   "mimetype": "text/x-python",
   "name": "python",
   "nbconvert_exporter": "python",
   "pygments_lexer": "ipython3",
   "version": "3.9.2"
  }
 },
 "nbformat": 4,
 "nbformat_minor": 4
}
