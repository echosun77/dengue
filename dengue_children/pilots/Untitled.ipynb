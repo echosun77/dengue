{
 "cells": [
  {
   "cell_type": "code",
   "execution_count": 1,
   "metadata": {},
   "outputs": [],
   "source": [
    "import h5py\n",
    "import numpy as np\n",
    "import pandas as pd\n",
    "import anndata\n",
    "import scipy.sparse as sp\n",
    "import scanpy as sc\n",
    "import random\n",
    "import scipy.sparse\n",
    "from scipy.stats import ks_2samp\n",
    "from collections import defaultdict\n",
    "from matplotlib.patches import Wedge\n",
    "import matplotlib.pyplot as plt\n",
    "import matplotlib as mpl\n",
    "import itertools"
   ]
  },
  {
   "cell_type": "code",
   "execution_count": 3,
   "metadata": {},
   "outputs": [],
   "source": [
    "innate = sc.read_h5ad('/home/yike/phd/dataset_from_google/virus/COVID PBMC Italy/innate.h5ad')"
   ]
  },
  {
   "cell_type": "code",
   "execution_count": 8,
   "metadata": {},
   "outputs": [
    {
     "data": {
      "text/plain": [
       "AnnData object with n_obs × n_vars = 125117 × 32738\n",
       "    obs: 'tissue', 'dsm_severity_score_group', 'assay', 'ethnicity', 'disease', 'disease_ontology_term_id', 'assay_ontology_term_id', 'severity', 'tissue_ontology_term_id', 'timepoint', 'outcome', 'dsm_severity_score', 'days_since_hospitalized', 'development_stage_ontology_term_id', 'sex', 'age', 'ethnicity_ontology_term_id', 'donor', 'days_since_onset', 'cell_type_ontology_term_id', 'development_stage', 'cell_type', 'ever_admitted_to_icu', 'material_type'\n",
       "    var: 'mvp.mean', 'mvp.dispersion', 'mvp.dispersion.scaled', 'mvp.variable'\n",
       "    uns: 'layer_descriptions', 'organism', 'organism_ontology_term_id', 'organism_original', 'title', 'version'\n",
       "    obsm: 'X_umap'\n",
       "    layers: 'logcounts'"
      ]
     },
     "execution_count": 8,
     "metadata": {},
     "output_type": "execute_result"
    }
   ],
   "source": [
    "innate"
   ]
  },
  {
   "cell_type": "code",
   "execution_count": 2,
   "metadata": {},
   "outputs": [
    {
     "data": {
      "text/plain": [
       "AnnData object with n_obs × n_vars = 246964 × 32738\n",
       "    obs: 'tissue_ontology_term_id', 'tissue', 'cell_type', 'disease', 'disease_ontology_term_id', 'age', 'days_since_hospitalized', 'ethnicity', 'donor', 'cell_type_ontology_term_id', 'severity', 'development_stage_ontology_term_id', 'dsm_severity_score', 'sex', 'ever_admitted_to_icu', 'days_since_onset', 'assay', 'timepoint', 'dsm_severity_score_group', 'development_stage', 'ethnicity_ontology_term_id', 'assay_ontology_term_id', 'outcome', 'material_type'\n",
       "    var: 'mvp.mean', 'mvp.dispersion', 'mvp.dispersion.scaled', 'mvp.variable'\n",
       "    uns: 'layer_descriptions', 'organism', 'organism_ontology_term_id', 'organism_original', 'title', 'version'\n",
       "    obsm: 'X_umap'\n",
       "    layers: 'logcounts'"
      ]
     },
     "execution_count": 2,
     "metadata": {},
     "output_type": "execute_result"
    }
   ],
   "source": [
    "adap = sc.read_h5ad('/home/yike/phd/dataset_from_google/virus/COVID PBMC Italy/adaptive.h5ad')\n",
    "adap"
   ]
  },
  {
   "cell_type": "code",
   "execution_count": 4,
   "metadata": {},
   "outputs": [
    {
     "name": "stdout",
     "output_type": "stream",
     "text": [
      "15.580300293185653% NK cells express XCL1\n",
      "22.904018716498356% NK cells express XCL2\n"
     ]
    }
   ],
   "source": [
    "NK1 = innate[innate.obs['cell_type'].isin(['NK_CD16hi', 'NK_CD56loCD16lo', 'NK_CD56hiCD16lo'])]\n",
    "per_XCL1 = (NK1[:, 'XCL1'].X > 0).mean() * 100\n",
    "print('%s'%str(per_XCL1) + '%' + ' NK cells express XCL1')\n",
    "\n",
    "per_XCL2 = (NK1[:, 'XCL2'].X > 0).mean() * 100\n",
    "print('%s'%str(per_XCL2) + '%' + ' NK cells express XCL2')"
   ]
  },
  {
   "cell_type": "code",
   "execution_count": 7,
   "metadata": {},
   "outputs": [
    {
     "name": "stdout",
     "output_type": "stream",
     "text": [
      "14.297160773384428% NK_CD16hi express XCL1\n",
      "21.741856819369445% NK_CD16hi express XCL2\n",
      "5.960784313725491% NK_CD56loCD16lo express XCL1\n",
      "15.058823529411766% NK_CD56loCD16lo express XCL2\n",
      "75.10105092966855% NK_CD56hiCD16lo express XCL1\n",
      "74.13096200485045% NK_CD56hiCD16lo express XCL2\n"
     ]
    }
   ],
   "source": [
    "for NK_ct in ['NK_CD16hi', 'NK_CD56loCD16lo', 'NK_CD56hiCD16lo']:\n",
    "    NK1 = innate[innate.obs['cell_type'].isin([NK_ct])]\n",
    "    per_XCL1 = (NK1[:, 'XCL1'].X > 0).mean() * 100\n",
    "    print('%s'%str(per_XCL1) + '%' + f' {NK_ct} express XCL1')\n",
    "\n",
    "    per_XCL2 = (NK1[:, 'XCL2'].X > 0).mean() * 100\n",
    "    print('%s'%str(per_XCL2) + '%' + f' {NK_ct} express XCL2')"
   ]
  },
  {
   "cell_type": "code",
   "execution_count": 5,
   "metadata": {},
   "outputs": [],
   "source": [
    "G = sc.read_h5ad('/home/yike/phd/dataset_from_google/virus/COVID PBMC Germany/processed_cellXgene.h5ad')"
   ]
  },
  {
   "cell_type": "code",
   "execution_count": 6,
   "metadata": {},
   "outputs": [
    {
     "name": "stdout",
     "output_type": "stream",
     "text": [
      "16.370317686107157% NK cells express XCL1\n",
      "30.96254148885728% NK cells express XCL2\n"
     ]
    }
   ],
   "source": [
    "NK2 = G[G.obs['cell_type'].isin(['NK_cells'])]\n",
    "per_XCL1 = (NK2[:, 'XCL1'].X > 0).mean() * 100\n",
    "print('%s'%str(per_XCL1) + '%' + ' NK cells express XCL1')\n",
    "\n",
    "per_XCL2 = (NK2[:, 'XCL2'].X > 0).mean() * 100\n",
    "print('%s'%str(per_XCL2) + '%' + ' NK cells express XCL2')"
   ]
  },
  {
   "cell_type": "code",
   "execution_count": null,
   "metadata": {},
   "outputs": [],
   "source": []
  },
  {
   "cell_type": "code",
   "execution_count": null,
   "metadata": {},
   "outputs": [],
   "source": []
  },
  {
   "cell_type": "code",
   "execution_count": null,
   "metadata": {},
   "outputs": [],
   "source": []
  },
  {
   "cell_type": "code",
   "execution_count": null,
   "metadata": {},
   "outputs": [],
   "source": []
  },
  {
   "cell_type": "code",
   "execution_count": null,
   "metadata": {},
   "outputs": [],
   "source": []
  },
  {
   "cell_type": "code",
   "execution_count": null,
   "metadata": {},
   "outputs": [],
   "source": []
  }
 ],
 "metadata": {
  "kernelspec": {
   "display_name": "Python 3",
   "language": "python",
   "name": "python3"
  },
  "language_info": {
   "codemirror_mode": {
    "name": "ipython",
    "version": 3
   },
   "file_extension": ".py",
   "mimetype": "text/x-python",
   "name": "python",
   "nbconvert_exporter": "python",
   "pygments_lexer": "ipython3",
   "version": "3.9.2"
  }
 },
 "nbformat": 4,
 "nbformat_minor": 4
}
