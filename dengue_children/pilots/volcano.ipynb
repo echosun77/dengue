{
 "cells": [
  {
   "cell_type": "code",
   "execution_count": null,
   "metadata": {},
   "outputs": [],
   "source": [
    "import pandas as pd # Data analysis\n",
    "import numpy as np # Scientific computing\n",
    "import seaborn as sns # Statistical visualization\n",
    "\n",
    "# 读取数据\n",
    "df = pd.read_csv('./dataset_volcano.txt', sep='\\t')\n",
    "result = pd.DataFrame()\n",
    "result['x'] = df['logFC']\n",
    "result['y'] = df['P.Value']\n",
    "result['-log10(pvalue)']=-df['P.Value'].apply(np.log10)"
   ]
  },
  {
   "cell_type": "code",
   "execution_count": null,
   "metadata": {},
   "outputs": [],
   "source": [
    "# 设置pvalue和logFC的阈值\n",
    "cut_off_pvalue = 0.0000001\n",
    "cut_off_logFC = 1"
   ]
  },
  {
   "cell_type": "code",
   "execution_count": null,
   "metadata": {},
   "outputs": [],
   "source": [
    "#分组为up, normal, down\n",
    "result.loc[(result.x> cut_off_logFC )&(result.y < cut_off_pvalue),'group'] = 'up'\n",
    "result.loc[(result.x< -cut_off_logFC )&(result.y < cut_off_pvalue),'group'] = 'down'\n",
    "result.loc[(result.x>=-cut_off_logFC )&(result.x<=cut_off_logFC )|(result.y >= cut_off_pvalue),'group'] = 'normal'"
   ]
  },
  {
   "cell_type": "code",
   "execution_count": null,
   "metadata": {},
   "outputs": [],
   "source": [
    "#绘制散点图\n",
    "ax = sns.scatterplot(x=\"x\", y=\"-log10(pvalue)\",\n",
    "                      hue='group',\n",
    "                      hue_order = ('down','normal','up'),\n",
    "                      palette=(\"#377EB8\",\"grey\",\"#E41A1C\"),\n",
    "                      alpha=0.5,\n",
    "                      s=15,\n",
    "                      data=result)"
   ]
  },
  {
   "cell_type": "code",
   "execution_count": null,
   "metadata": {},
   "outputs": [],
   "source": [
    "#确定坐标轴显示范围\n",
    "xmin=-6\n",
    "xmax=10\n",
    "ymin=7\n",
    "ymax=13\n",
    "\n",
    "ax.spines['right'].set_visible(False) #去掉右边框\n",
    "ax.spines['top'].set_visible(False) #去掉上边框\n",
    "\n",
    "ax.vlines(-cut_off_logFC, ymin, ymax, color='dimgrey',linestyle='dashed', linewidth=1) #画竖直线\n",
    "ax.vlines(cut_off_logFC, ymin, ymax, color='dimgrey',linestyle='dashed', linewidth=1) #画竖直线\n",
    "ax.hlines(-np.log10(cut_off_pvalue), xmin, xmax, color='dimgrey',linestyle='dashed', linewidth=1) #画竖水平线\n",
    "ax.set_xticks(range(xmin, xmax, 4))# 设置x轴刻度\n",
    "ax.set_yticks(range(ymin, ymax, 2))# 设置y轴刻度\n",
    "ax.set_ylabel('-log10(pvalue)',fontweight='bold') # 设置y轴标签\n",
    "ax.set_xlabel('log2(fold change)',fontweight='bold') # 设置x轴标签"
   ]
  },
  {
   "cell_type": "code",
   "execution_count": null,
   "metadata": {},
   "outputs": [],
   "source": []
  },
  {
   "cell_type": "code",
   "execution_count": null,
   "metadata": {},
   "outputs": [],
   "source": []
  },
  {
   "cell_type": "code",
   "execution_count": null,
   "metadata": {},
   "outputs": [],
   "source": []
  },
  {
   "cell_type": "code",
   "execution_count": null,
   "metadata": {},
   "outputs": [],
   "source": []
  },
  {
   "cell_type": "code",
   "execution_count": null,
   "metadata": {},
   "outputs": [],
   "source": []
  },
  {
   "cell_type": "code",
   "execution_count": null,
   "metadata": {},
   "outputs": [],
   "source": []
  },
  {
   "cell_type": "code",
   "execution_count": null,
   "metadata": {},
   "outputs": [],
   "source": []
  }
 ],
 "metadata": {
  "kernelspec": {
   "display_name": "Python 3",
   "language": "python",
   "name": "python3"
  },
  "language_info": {
   "codemirror_mode": {
    "name": "ipython",
    "version": 3
   },
   "file_extension": ".py",
   "mimetype": "text/x-python",
   "name": "python",
   "nbconvert_exporter": "python",
   "pygments_lexer": "ipython3",
   "version": "3.9.2"
  }
 },
 "nbformat": 4,
 "nbformat_minor": 4
}
