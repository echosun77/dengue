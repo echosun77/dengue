{
 "cells": [
  {
   "cell_type": "code",
   "execution_count": 3,
   "metadata": {},
   "outputs": [
    {
     "ename": "ModuleNotFoundError",
     "evalue": "No module named 'lungsc'",
     "output_type": "error",
     "traceback": [
      "\u001b[0;31m---------------------------------------------------------------------------\u001b[0m",
      "\u001b[0;31mModuleNotFoundError\u001b[0m                       Traceback (most recent call last)",
      "\u001b[0;32m<ipython-input-3-fe996a6a246e>\u001b[0m in \u001b[0;36m<module>\u001b[0;34m\u001b[0m\n\u001b[1;32m     11\u001b[0m \u001b[0;32mimport\u001b[0m \u001b[0mseaborn\u001b[0m \u001b[0;32mas\u001b[0m \u001b[0msns\u001b[0m\u001b[0;34m\u001b[0m\u001b[0;34m\u001b[0m\u001b[0m\n\u001b[1;32m     12\u001b[0m \u001b[0;34m\u001b[0m\u001b[0m\n\u001b[0;32m---> 13\u001b[0;31m \u001b[0;32mfrom\u001b[0m \u001b[0mlungsc\u001b[0m\u001b[0;34m.\u001b[0m\u001b[0mingest\u001b[0m\u001b[0;34m.\u001b[0m\u001b[0mload_dataset\u001b[0m \u001b[0;32mimport\u001b[0m \u001b[0mDatasetLung\u001b[0m\u001b[0;34m,\u001b[0m \u001b[0mversions\u001b[0m\u001b[0;34m\u001b[0m\u001b[0;34m\u001b[0m\u001b[0m\n\u001b[0m\u001b[1;32m     14\u001b[0m \u001b[0;34m\u001b[0m\u001b[0m\n\u001b[1;32m     15\u001b[0m \u001b[0;34m\u001b[0m\u001b[0m\n",
      "\u001b[0;31mModuleNotFoundError\u001b[0m: No module named 'lungsc'"
     ]
    }
   ],
   "source": [
    "import os\n",
    "import sys\n",
    "import glob\n",
    "import gzip\n",
    "import subprocess as sp\n",
    "import numpy as np\n",
    "import pandas as pd\n",
    "\n",
    "import matplotlib.pyplot as plt\n",
    "import matplotlib.lines as mlines\n",
    "import seaborn as sns\n",
    "\n",
    "from lungsc.ingest.load_dataset import DatasetLung, versions\n",
    "\n",
    "\n",
    "\n",
    "if __name__ == '__main__':\n",
    "\n",
    "    ds = DatasetLung.load(preprocess=True, version=versions[-2], include_hyperoxia=True)\n",
    "    ds.query_samples_by_metadata('(cellType == \"immune\") & (doublet == 0)', inplace=True)"
   ]
  },
  {
   "cell_type": "code",
   "execution_count": 19,
   "metadata": {},
   "outputs": [],
   "source": [
    "adata = ds.to_AnnData()"
   ]
  },
  {
   "cell_type": "code",
   "execution_count": 20,
   "metadata": {},
   "outputs": [
    {
     "data": {
      "text/plain": [
       "AnnData object with n_obs × n_vars = 5247 × 18072\n",
       "    obs: 'DC', 'Gender', 'Plate', 'SortType', 'Timepoint', 'Well', 'cellRoughSubtype', 'cellSubtype', 'cellSubtypeOld', 'cellType', 'coverage', 'doublet', 'embed_endo_1', 'embed_endo_2', 'fastq', 'number_of_genes_1plusreads', 'Time [days]', 'Treatment', 'TimepointHO', 'Mousename'\n",
       "    var: 'Chromosome', 'Gene stable ID', 'GeneName', 'Strand', 'missing_info', 'n_geneIds'"
      ]
     },
     "execution_count": 20,
     "metadata": {},
     "output_type": "execute_result"
    }
   ],
   "source": [
    "adata"
   ]
  },
  {
   "cell_type": "code",
   "execution_count": 21,
   "metadata": {},
   "outputs": [],
   "source": [
    "idx = adata.obs['Timepoint'] == \"P7\"\n",
    "adataP7 = adata[idx]"
   ]
  },
  {
   "cell_type": "code",
   "execution_count": 22,
   "metadata": {},
   "outputs": [
    {
     "data": {
      "text/plain": [
       "View of AnnData object with n_obs × n_vars = 2171 × 18072\n",
       "    obs: 'DC', 'Gender', 'Plate', 'SortType', 'Timepoint', 'Well', 'cellRoughSubtype', 'cellSubtype', 'cellSubtypeOld', 'cellType', 'coverage', 'doublet', 'embed_endo_1', 'embed_endo_2', 'fastq', 'number_of_genes_1plusreads', 'Time [days]', 'Treatment', 'TimepointHO', 'Mousename'\n",
       "    var: 'Chromosome', 'Gene stable ID', 'GeneName', 'Strand', 'missing_info', 'n_geneIds'"
      ]
     },
     "execution_count": 22,
     "metadata": {},
     "output_type": "execute_result"
    }
   ],
   "source": [
    "adataP7"
   ]
  },
  {
   "cell_type": "code",
   "execution_count": 79,
   "metadata": {},
   "outputs": [
    {
     "data": {
      "text/plain": [
       "{'fig': <Figure size 93.6x72 with 2 Axes>,\n",
       " 'ax': <AxesSubplot:title={'center':'Gapdh'}>}"
      ]
     },
     "execution_count": 79,
     "metadata": {},
     "output_type": "execute_result"
    },
    {
     "data": {
      "image/png": "[encoded data removed]",
      "text/plain": [
       "<Figure size 93.6x72 with 2 Axes>"
      ]
     },
     "metadata": {
      "needs_background": "light"
     },
     "output_type": "display_data"
    }
   ],
   "source": [
    "gene = \"Actb\"\n",
    "cell_type = \"B cell\"\n",
    "\n",
    "def my_dotplot(gene, cell_type, scaling=2.):\n",
    "    import matplotlib as mpl\n",
    "    \n",
    "    df = adataP7.obs[['Gender', 'Treatment', 'cellSubtype']].copy()\n",
    "    df[gene] = adataP7[:, gene].X.toarray()[:, 0]\n",
    "    df['is_expressed'] = df[gene] > 0\n",
    "\n",
    "    gby = df.groupby(['cellSubtype', 'Gender', 'Treatment']).mean()\n",
    "    mean_expression = gby.loc[cell_type, gene]\n",
    "    frac_expressed =  gby.loc[cell_type, 'is_expressed']\n",
    "    \n",
    "    ###############################  \n",
    "    mean_expression_norm = mean_expression / mean_expression.max()\n",
    "    colors = plt.cm.get_cmap('plasma')(mean_expression_norm)\n",
    "    \n",
    "    size = (0 + (195) * frac_expressed) * scaling**2\n",
    "\n",
    "    fig, ax = plt.subplots(figsize=(scaling * 1.3, scaling * 1))\n",
    "    x = [0, 1, 0, 1]\n",
    "    y = [0, 0, 1, 1]\n",
    "    ax.scatter(x, y, s=size, c=colors)\n",
    "    ax.set_xlim(-0.3, 1.3)\n",
    "    ax.set_ylim(-0.3, 1.3)\n",
    "    ax.set_xticks([0, 1])\n",
    "    ax.set_yticks([0, 1])\n",
    "    ax.set_xticklabels(['HO', 'N'])\n",
    "    ax.set_yticklabels(['F', 'M'])\n",
    "    ax.spines['left'].set_visible(False)\n",
    "    ax.spines['right'].set_visible(False)\n",
    "    ax.spines['bottom'].set_visible(False)\n",
    "    ax.spines['top'].set_visible(False)\n",
    "    ax.set_title(gene)   \n",
    "    ###############################  \n",
    "    \n",
    "    \n",
    "    norm = mpl.colors.Normalize(vmin=0, vmax=mean_expression.max())\n",
    "    cmap = plt.cm.get_cmap('plasma')\n",
    "    cbar = plt.colorbar(plt.cm.ScalarMappable(norm=norm, cmap=cmap), ax=ax, label='Gene exp [cpm]')\n",
    "\n",
    "    \n",
    "    return {'fig': fig, 'ax': ax}\n",
    "\n",
    "my_dotplot('Gapdh', 'neutrophil', scaling=1)\n"
   ]
  },
  {
   "cell_type": "code",
   "execution_count": 56,
   "metadata": {},
   "outputs": [
    {
     "data": {
      "text/plain": [
       "{'fig': <Figure size 72x72 with 1 Axes>,\n",
       " 'ax': <AxesSubplot:title={'center':'Ccr2'}>}"
      ]
     },
     "execution_count": 56,
     "metadata": {},
     "output_type": "execute_result"
    },
    {
     "data": {
      "image/png": "[encoded data removed]",
      "text/plain": [
       "<Figure size 72x72 with 1 Axes>"
      ]
     },
     "metadata": {
      "needs_background": "light"
     },
     "output_type": "display_data"
    },
    {
     "data": {
      "image/png": "[encoded data removed]",
      "text/plain": [
       "<Figure size 72x72 with 1 Axes>"
      ]
     },
     "metadata": {
      "needs_background": "light"
     },
     "output_type": "display_data"
    },
    {
     "data": {
      "image/png": "[encoded data removed]",
      "text/plain": [
       "<Figure size 72x72 with 1 Axes>"
      ]
     },
     "metadata": {
      "needs_background": "light"
     },
     "output_type": "display_data"
    }
   ],
   "source": [
    "my_dotplot('Gapdh', 'neutrophil')\n",
    "my_dotplot('Il2', 'T cell')\n",
    "my_dotplot('Ccr2', 'Mac II')"
   ]
  },
  {
   "cell_type": "code",
   "execution_count": 42,
   "metadata": {},
   "outputs": [
    {
     "data": {
      "text/plain": [
       "Gender  Treatment\n",
       "F       hyperoxia    15588.402344\n",
       "        normal        8835.468750\n",
       "M       hyperoxia    22497.203125\n",
       "        normal       10123.586914\n",
       "Name: Actb, dtype: float32"
      ]
     },
     "execution_count": 42,
     "metadata": {},
     "output_type": "execute_result"
    }
   ],
   "source": [
    "mean_expression"
   ]
  },
  {
   "cell_type": "code",
   "execution_count": 31,
   "metadata": {},
   "outputs": [
    {
     "data": {
      "image/png": "[encoded data removed]",
      "text/plain": [
       "<Figure size 432x288 with 1 Axes>"
      ]
     },
     "metadata": {
      "needs_background": "light"
     },
     "output_type": "display_data"
    }
   ],
   "source": [
    "import numpy as np\n",
    "import pandas as pd\n",
    "\n",
    "import matplotlib.pyplot as plt\n",
    "import matplotlib.lines as mlines\n",
    "import matplotlib.patches as mpatches\n",
    "from matplotlib.collections import PatchCollection\n",
    "import seaborn as sns\n",
    "\n",
    "colors1 = sns.color_palette('hls', 64)\n",
    "colors2 = sns.color_palette('pastel', 64)\n",
    "colors3 = sns.color_palette('Set2', 64)\n",
    "#colors = plt.cm.get_cmap('plasma')(mean_expression_norm)\n",
    "\n",
    "fig, ax = plt.subplots()\n",
    "patches = []\n",
    "for a in range(8):\n",
    "    for b in range(8):\n",
    "        dots1 = [[a, b],\n",
    "                [a, b+1],\n",
    "                [a+0.5, b+1],\n",
    "                [a+0.5, b+0.5],\n",
    "        ]\n",
    "        e1 = mpatches.Polygon(np.array(dots1), color=colors[a+b])\n",
    "        \n",
    "        #patches.append(e1)\n",
    "#collection = PatchCollection(patches, color= colors)\n",
    "#ax.add_collection(collection)\n",
    "        ax.add_patch(e1)\n",
    "        \n",
    "        dots2 = [[a+0.5, b+0.5],\n",
    "                [a+0.5, b+1],\n",
    "                [a+1, b+1],\n",
    "                [a+1, b],\n",
    "        ]\n",
    "        e2 = mpatches.Polygon(np.array(dots2), color=colors2[a])\n",
    "        ax.add_patch(e2)\n",
    "        \n",
    "        dots3 = [[a+0.5, b+0.5],\n",
    "                [a, b],\n",
    "                [a+1, b],\n",
    "        ]\n",
    "        e3 = mpatches.Polygon(np.array(dots3), color=colors3[a])\n",
    "        ax.add_patch(e3)\n",
    "    \n",
    "    \n",
    "ax.set_xlim([0,8])\n",
    "ax.set_ylim([0,8])\n",
    "plt.show()"
   ]
  },
  {
   "cell_type": "code",
   "execution_count": 34,
   "metadata": {},
   "outputs": [],
   "source": [
    "intern[(ct1, ct2, condition)] = len(inters[(ct1, ct2, condition)])\n",
    "norm_intern[(ct1, ct2, condition)] = intern[(ct1, ct2, condition)]/intern.max()\n",
    "\n",
    "colors = {}\n",
    "colors[(ct1, ct2, condition)] = plt.cm.get_cmap('plasma')(norm_intern[(ct1, ct2, condition)])"
   ]
  },
  {
   "cell_type": "code",
   "execution_count": 40,
   "metadata": {},
   "outputs": [
    {
     "data": {
      "text/plain": [
       "array([0.050383, 0.029803, 0.527975, 1.      ])"
      ]
     },
     "execution_count": 40,
     "metadata": {},
     "output_type": "execute_result"
    }
   ],
   "source": [
    "colors[(0, 0)]"
   ]
  },
  {
   "cell_type": "code",
   "execution_count": null,
   "metadata": {},
   "outputs": [],
   "source": []
  }
 ],
 "metadata": {
  "kernelspec": {
   "display_name": "Python 3",
   "language": "python",
   "name": "python3"
  },
  "language_info": {
   "codemirror_mode": {
    "name": "ipython",
    "version": 3
   },
   "file_extension": ".py",
   "mimetype": "text/x-python",
   "name": "python",
   "nbconvert_exporter": "python",
   "pygments_lexer": "ipython3",
   "version": "3.9.2"
  }
 },
 "nbformat": 4,
 "nbformat_minor": 4
}
