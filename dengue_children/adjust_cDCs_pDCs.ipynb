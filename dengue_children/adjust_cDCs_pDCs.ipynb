{
 "cells": [
  {
   "cell_type": "markdown",
   "metadata": {},
   "source": [
    "1. 筛选出不合格的cDCs, pDCs\n",
    "2. 分别计算他们对应的log2FC, p_value, gene_exp, ave_exp\n",
    "3. 替换到现在的表格"
   ]
  },
  {
   "cell_type": "code",
   "execution_count": 103,
   "metadata": {},
   "outputs": [
    {
     "name": "stdout",
     "output_type": "stream",
     "text": [
      "Load interaction\n"
     ]
    }
   ],
   "source": [
    "fn_int = '/home/yike/phd/dengue/data/interaction_source_file/interactions_DB.tsv'\n",
    "interactions = pd.read_csv(fn_int, sep=',')[['gene_name_a', 'gene_name_b']]\n",
    "genes = np.unique(interactions)\n",
    "#genes = [i for i in genes if i in adata.var_names]\n",
    "genes = [i for i in genes if i not in ['CCL3L3', 'CCL4L1', 'CCN6', 'KIR3DS1', 'YARS1']]"
   ]
  },
  {
   "cell_type": "code",
   "execution_count": 132,
   "metadata": {},
   "outputs": [
    {
     "name": "stderr",
     "output_type": "stream",
     "text": [
      "/usr/lib/python3.9/site-packages/pandas/core/arrays/categorical.py:2487: FutureWarning: The `inplace` parameter in pandas.Categorical.remove_unused_categories is deprecated and will be removed in a future version.\n",
      "  res = method(*args, **kwargs)\n"
     ]
    }
   ],
   "source": [
    "from log2_FC_functions import log2_FC_all\n",
    "\n",
    "log2_fc_ave = log2_FC_all(genes, adata_cDCs, 'S_dengue', 'dengue', 'child')[1]\n",
    "log2_fc_ave['cell_type']=['cDCs']*log2_fc_all.shape[0]\n",
    "\n",
    "log2_fc_ave['gene'] = log2_fc_ave.index.values\n",
    "log2_fc_ave = log2_fc_ave.set_index('cell_type')\n",
    "log2_fc_ave.to_csv('/home/yike/phd/dengue/data/excels/log2_fc/S_dengue_vs_dengue/log2_fc_ave_kids_cDCs.tsv')"
   ]
  },
  {
   "cell_type": "code",
   "execution_count": 125,
   "metadata": {},
   "outputs": [
    {
     "name": "stderr",
     "output_type": "stream",
     "text": [
      "/usr/lib/python3.9/site-packages/pandas/core/arrays/categorical.py:2487: FutureWarning: The `inplace` parameter in pandas.Categorical.remove_unused_categories is deprecated and will be removed in a future version.\n",
      "  res = method(*args, **kwargs)\n"
     ]
    }
   ],
   "source": [
    "adatag = adata_cDCs[:, genes]\n",
    "\n",
    "from numpy import * # 调用numpy所有函数\n",
    "adatag_children = adatag[adatag.obs['dataset'] == 'child']\n",
    "\n",
    "IDs = list(adatag_children.obs['ID'].astype('category').cat.categories)\n",
    "\n",
    "#cell_types = ['B_cells', 'Monocytes', 'NK_cells', 'Plasmablasts', 'T_cells', 'cDCs', 'pDCs']\n",
    "conditions = ['S_dengue', 'dengue', 'DWS', 'Healthy']\n",
    "from collections import defaultdict\n",
    "adatag_ch_ct_cd_ID = {}\n",
    "for condition in conditions:\n",
    "    for ID in IDs:\n",
    "        adatag_ch_ct_cd_ID[(condition, ID)] = adatag_children[adatag_children.obs['Condition'] == condition][adatag_children[adatag_children.obs['Condition'] == condition].obs['ID'] == ID]\n",
    "\n",
    "gene_exp_ave = {}\n",
    "ave_exp_ave = {}\n",
    "for condition in conditions:\n",
    "    exp_fra = []\n",
    "    ave_exp = []\n",
    "    for ID in list(adatag_children[adatag_children.obs['Condition'] == condition].obs['ID'].astype('category').cat.categories):\n",
    "        exp_fra.append((adatag_ch_ct_cd_ID[(condition, ID)].X > 0).toarray().mean(axis=0))\n",
    "        ave_exp.append(adatag_ch_ct_cd_ID[(condition, ID)].X.toarray().mean(axis=0))\n",
    "        \n",
    "    exp_fra = np.array(exp_fra).mean(axis=0)\n",
    "    ave_exp = np.array(ave_exp).mean(axis=0)\n",
    "    \n",
    "    gene_exp_ave[condition] = pd.DataFrame(exp_fra, index=adatag_children[adatag_children.obs['Condition'] == condition].var.index, columns=['gene_expre'])\n",
    "    ave_exp_ave[condition] = pd.DataFrame(ave_exp, index=adatag_children[adatag_children.obs['Condition'] == condition].var.index, columns=['ave_exp'])\n",
    "    \n",
    "exp_fra_ave = pd.DataFrame([])\n",
    "ave_exp = pd.DataFrame([])\n",
    "for key in gene_exp_ave.keys():\n",
    "    gene_exp_ave[key]['cell_type'] = ['cDCs']*(gene_exp_ave[key].shape[0])\n",
    "    gene_exp_ave[key]['condition'] = [key]*(gene_exp_ave[key].shape[0])\n",
    "    exp_fra_ave = pd.concat([exp_fra_ave, gene_exp_ave[key]])\n",
    "    exp_fra_ave['gene'] = exp_fra_ave.index\n",
    "    exp_fra_ave.to_csv('/home/yike/phd/dengue/data/excels/log2_fc/S_dengue_vs_dengue/exp_fra_ave_cDCs.tsv')\n",
    "    \n",
    "    ave_exp_ave[key]['cell_type'] = ['cDCs']*(ave_exp_ave[key].shape[0])\n",
    "    ave_exp_ave[key]['condition'] = [key]*(ave_exp_ave[key].shape[0])\n",
    "    ave_exp = pd.concat([ave_exp, ave_exp_ave[key]])\n",
    "    ave_exp['gene'] = ave_exp.index\n",
    "    ave_exp.to_csv('/home/yike/phd/dengue/data/excels/log2_fc/S_dengue_vs_dengue/ave_exp_ave_cDCs.tsv')"
   ]
  },
  {
   "cell_type": "code",
   "execution_count": 216,
   "metadata": {},
   "outputs": [],
   "source": [
    "log2_fc_cDCs = pd.read_csv('/home/yike/phd/dengue/data/excels/log2_fc/S_dengue_vs_dengue/log2_fc_ave_kids_cDCs.tsv', index_col=['cell_type', 'gene'])\n",
    "gene_exp_cDCs = pd.read_csv('/home/yike/phd/dengue/data/excels/log2_fc/S_dengue_vs_dengue/exp_fra_ave_cDCs.tsv', index_col=['cell_type', 'gene', 'condition'])\n",
    "ave_exp_cDCs = pd.read_csv('/home/yike/phd/dengue/data/excels/log2_fc/S_dengue_vs_dengue/ave_exp_ave_cDCs.tsv', index_col=['cell_type', 'gene', 'condition'])"
   ]
  },
  {
   "cell_type": "code",
   "execution_count": 217,
   "metadata": {},
   "outputs": [],
   "source": [
    "idx_SD = [(i[0], i[1], 'S_dengue') for i in log2_fc_cDCs.index]\n",
    "idx_D = [(i[0], i[1], 'dengue') for i in log2_fc_cDCs.index]"
   ]
  },
  {
   "cell_type": "code",
   "execution_count": 218,
   "metadata": {},
   "outputs": [],
   "source": [
    "gene_exp_cDCs_SD = gene_exp_cDCs.loc[idx_SD]\n",
    "gene_exp_cDCs_D = gene_exp_cDCs.loc[idx_D]\n",
    "ave_exp_cDCs_SD = ave_exp_cDCs.loc[idx_SD]\n",
    "ave_exp_cDCs_D = ave_exp_cDCs.loc[idx_D]"
   ]
  },
  {
   "cell_type": "code",
   "execution_count": 219,
   "metadata": {},
   "outputs": [],
   "source": [
    "#SD_exp_frac\tD_exp_frac\tSD_ave_exp\tD_ave_exp\n",
    "log2_fc_cDCs['SD_exp_frac'] = gene_exp_cDCs_SD['gene_expre'].tolist()\n",
    "log2_fc_cDCs['D_exp_frac'] = gene_exp_cDCs_D['gene_expre'].tolist()\n",
    "log2_fc_cDCs['SD_ave_exp'] = ave_exp_cDCs_SD['ave_exp'].tolist()\n",
    "log2_fc_cDCs['D_ave_exp'] = ave_exp_cDCs_D['ave_exp'].tolist()"
   ]
  },
  {
   "cell_type": "code",
   "execution_count": 211,
   "metadata": {},
   "outputs": [],
   "source": [
    "log2_fc = pd.read_csv('/home/yike/phd/dengue/data/excels/log2_fc/S_dengue_vs_dengue/log2_fc_ave_kids.tsv', index_col=['cell_type', 'gene'])\n",
    "gene_exp = pd.read_csv('/home/yike/phd/dengue/data/excels/log2_fc/S_dengue_vs_dengue/exp_fra_ave.tsv', index_col=['cell_type', 'gene', 'condition'])\n",
    "ave_exp = pd.read_csv('/home/yike/phd/dengue/data/excels/log2_fc/S_dengue_vs_dengue/ave_exp_ave.tsv', index_col=['cell_type', 'gene', 'condition'])"
   ]
  },
  {
   "cell_type": "code",
   "execution_count": 214,
   "metadata": {},
   "outputs": [],
   "source": [
    "log2_fc_new = log2_fc.loc[['B_cells', 'Monocytes', 'NK_cells', 'Plasmablasts', 'T_cells', 'pDCs']]\n",
    "log2_fc = pd.concat([log2_fc_new, log2_fc_cDCs])\n",
    "log2_fc.to_csv('/home/yike/phd/dengue/data/excels/log2_fc/S_dengue_vs_dengue/log2_fc_ave_kids.tsv')"
   ]
  },
  {
   "cell_type": "code",
   "execution_count": 230,
   "metadata": {},
   "outputs": [],
   "source": [
    "gene_exp_new = gene_exp.loc[['B_cells', 'Monocytes', 'NK_cells', 'Plasmablasts', 'T_cells', 'pDCs']]\n",
    "gene_exp = pd.concat([gene_exp_new, gene_exp_cDCs])\n",
    "gene_exp.to_csv('/home/yike/phd/dengue/data/excels/log2_fc/S_dengue_vs_dengue/exp_fra_ave.tsv')"
   ]
  },
  {
   "cell_type": "code",
   "execution_count": 233,
   "metadata": {},
   "outputs": [],
   "source": [
    "ave_exp_new = ave_exp.loc[['B_cells', 'Monocytes', 'NK_cells', 'Plasmablasts', 'T_cells', 'pDCs']]\n",
    "ave_exp = pd.concat([ave_exp_new, ave_exp_cDCs])\n",
    "ave_exp.to_csv('/home/yike/phd/dengue/data/excels/log2_fc/S_dengue_vs_dengue/ave_exp_ave.tsv')"
   ]
  },
  {
   "cell_type": "code",
   "execution_count": null,
   "metadata": {},
   "outputs": [],
   "source": []
  }
 ],
 "metadata": {
  "kernelspec": {
   "display_name": "Python 3",
   "language": "python",
   "name": "python3"
  },
  "language_info": {
   "codemirror_mode": {
    "name": "ipython",
    "version": 3
   },
   "file_extension": ".py",
   "mimetype": "text/x-python",
   "name": "python",
   "nbconvert_exporter": "python",
   "pygments_lexer": "ipython3",
   "version": "3.9.2"
  }
 },
 "nbformat": 4,
 "nbformat_minor": 4
}
